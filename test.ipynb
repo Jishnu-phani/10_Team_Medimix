{
 "cells": [
  {
   "cell_type": "code",
   "execution_count": 9,
   "metadata": {},
   "outputs": [
    {
     "name": "stderr",
     "output_type": "stream",
     "text": [
      "Device set to use cuda:0\n",
      "C:\\Users\\gteja\\AppData\\Roaming\\Python\\Python312\\site-packages\\transformers\\models\\whisper\\generation_whisper.py:573: FutureWarning: The input name `inputs` is deprecated. Please make sure to use `input_features` instead.\n",
      "  warnings.warn(\n",
      "Whisper did not predict an ending timestamp, which can happen if audio is cut off in the middle of a word. Also make sure WhisperTimeStampLogitsProcessor was used during generation.\n"
     ]
    }
   ],
   "source": [
    "\n",
    "from transformers import pipeline\n",
    "\n",
    "#set device\n",
    "device = 0\n",
    "\n",
    "\n",
    "\n",
    "\n",
    "audio_file=r\"C:\\Users\\gteja\\Downloads\\medical_audio_file.mp3\"\n",
    "\n",
    "pipe = pipeline(model='Bhaveen/500medimix', device=device,return_timestamps=True)\n",
    "output = pipe(audio_file)"
   ]
  },
  {
   "cell_type": "code",
   "execution_count": 10,
   "metadata": {},
   "outputs": [
    {
     "name": "stdout",
     "output_type": "stream",
     "text": [
      " Yes. Four is what? Costectomy, left rear assist. All right, let's do it. Thank you. What is the history? Line base negative. Levered is fine. Spleen is fine. Gall butter. No, sorry, we're going to go to FOSSA. can we call it Dectomy, pancreas is fine, thumbtack is fine, mobile loops are fine. Just add them. Add three cinema left re-assist. I'll bring it up. A very simple system. It's 15HU. Okay. Oh, before we do that. Rheumatism, erinormal cell monosidicization. IVC endomarcoval, no brainer. Opethyriacine normal. Left kidney normal, but at assist. comparison stable. Emily Sengit, chest to views. Zero, orange. Raoul, P.A.5. Left ankle. Right knee, 0-1-2. foot zero one two All fractures neck of third worth of fifth no terms of bonds Right needs a one one.\n"
     ]
    }
   ],
   "source": [
    "print(output['text'])"
   ]
  },
  {
   "cell_type": "code",
   "execution_count": 1,
   "metadata": {},
   "outputs": [
    {
     "name": "stdout",
     "output_type": "stream",
     "text": [
      "WARNING:tensorflow:From C:\\Users\\gteja\\AppData\\Roaming\\Python\\Python312\\site-packages\\tf_keras\\src\\losses.py:2976: The name tf.losses.sparse_softmax_cross_entropy is deprecated. Please use tf.compat.v1.losses.sparse_softmax_cross_entropy instead.\n",
      "\n"
     ]
    },
    {
     "name": "stderr",
     "output_type": "stream",
     "text": [
      "Device set to use cuda:0\n"
     ]
    }
   ],
   "source": [
    "from flask import Flask, render_template, request, jsonify\n",
    "import os\n",
    "from flask_cors import CORS\n",
    "import openai\n",
    "import datetime\n",
    "\n",
    "import firebase_admin\n",
    "from firebase_admin import db,storage,credentials\n",
    "import datetime\n",
    "import sys\n",
    "from Firebase.pdf import pdf_conv\n",
    "from Firebase.firebase_stuff import create_doctor_account, upload_pdf_to_bucket, download_prescription, login_firebase\n",
    "#from Firebase.pharmacist import pharmacist\n",
    "from Firebase.register_firebase import registration\n",
    "from Firebase.text_formatting import formatting\n",
    "from transformers import pipeline\n",
    "\n",
    "device = 0\n",
    "pipe = pipeline(model='Bhaveen/500medimix', device=device,return_timestamps=True)\n",
    "\n",
    "\n",
    "cred = credentials.Certificate('Firebase/credentials_new.json')\n",
    "firebase_admin.initialize_app(\n",
    "    cred,\n",
    "    {'databaseURL' : 'https://dr-writely-default-rtdb.asia-southeast1.firebasedatabase.app/','storageBucket': 'dr-writely.appspot.com'}\n",
    ")\n",
    "\n",
    "bucket = storage.bucket()"
   ]
  },
  {
   "cell_type": "code",
   "execution_count": 43,
   "metadata": {},
   "outputs": [],
   "source": [
    "# patient name -> patient phno\n",
    "# date\n",
    "# diagnosis\n",
    "# medication\n",
    " \n",
    "def get_doctor(doc_name,db):\n",
    "    result = {}\n",
    "    refD = db.reference(f'/User/Doctor/{doc_name}')\n",
    "    refC = db.reference(f'/User/Patient')\n",
    "    ch = refD.get()\n",
    "    patients = [i for i in ch.keys()]\n",
    "    chP = refC.get()\n",
    "    for i,j in chP.items():\n",
    "        if i in patients:\n",
    "            for k in j:\n",
    "                temp_dict = {'patient_phno': '', 'Date': '', 'Diagnosis': '', 'medication': ''}\n",
    "                temp_dict['Date']=(j[k]['date'])\n",
    "                temp_dict['Diagnosis']=(j[k]['diagnosis'])\n",
    "                temp_dict['medication']=(j[k]['medication'])\n",
    "                temp_dict['patient_phno']=(i)\n",
    "                result[k] = temp_dict\n",
    "    print(result)\n",
    "\n",
    "\n",
    "    "
   ]
  },
  {
   "cell_type": "code",
   "execution_count": 44,
   "metadata": {},
   "outputs": [
    {
     "name": "stdout",
     "output_type": "stream",
     "text": [
      "{'202502012208': {'patient_phno': '9019942460', 'Date': '2025-02-01', 'Diagnosis': ' Clamydia (Chlamydia) infection  ', 'medication': [' azithromycin', ' single dose; doxycycline', ' 100 mg twice daily for 7 days  ']}}\n"
     ]
    }
   ],
   "source": [
    "get_doctor('Tejas',db)"
   ]
  },
  {
   "cell_type": "code",
   "execution_count": 87,
   "metadata": {},
   "outputs": [],
   "source": [
    "def get_patient(phno,db):\n",
    "    result = {}\n",
    "    refP = db.reference(f'/User/Patient/{phno}')\n",
    "    chP = refP.get()\n",
    "    refD = db.reference(f'/User/Doctor')\n",
    "    chD = refD.get()\n",
    "    appts = [i for i in chP.keys()]\n",
    "    print(appts)\n",
    "    for i,j in chD.items():\n",
    "        temp_dict = {'date':'','diagnosis':'','medication':[]}\n",
    "        if phno in list(j.keys()):\n",
    "            for k in appts:\n",
    "                print(j[phno][k])\n",
    "                if k in j[phno].keys():\n",
    "                    temp_dict['date'] = j[phno][k]['date']\n",
    "                    temp_dict['date'] = j[phno][k]['date']\n",
    "                    temp_dict['diagnosis'] = j[phno][k]['diagnosis']\n",
    "                    temp_dict['medication'] = j[phno][k]['medication']\n",
    "                    result[i].append(temp_dict)\n",
    "            \n",
    "\n"
   ]
  },
  {
   "cell_type": "code",
   "execution_count": 88,
   "metadata": {},
   "outputs": [
    {
     "name": "stdout",
     "output_type": "stream",
     "text": [
      "['202502012208']\n",
      "{'date': '2025-02-01', 'transcript': ' Clamydia is a bacterial infection. Clamydia trachomatis causing genital pain, discharge or no symptoms. Treatment is azithromycin, single dose or doxicycline, 100 mg twice daily for 7 days. Partial treatment is advised.'}\n",
      "{}\n"
     ]
    }
   ],
   "source": [
    "get_patient('9019942460',db)"
   ]
  },
  {
   "cell_type": "code",
   "execution_count": 103,
   "metadata": {},
   "outputs": [
    {
     "name": "stdout",
     "output_type": "stream",
     "text": [
      "dict_keys(['9019942460', '9123456766', '9123456789', '9875684832'])\n",
      "Tejas\n"
     ]
    }
   ],
   "source": [
    "#ref1 = db.reference(f'/User/Doctor/{doctor}/{patient}')\n",
    "patient = '9019942460'\n",
    "ref2 = db.reference(f\"/User/Patient/{patient}\")\n",
    "refC = db.reference(f'/Creds')\n",
    "ch = refC.get()\n",
    "#print(ch.keys())\n",
    "user = [j for i,j in ch.items() if i in [patient]]\n",
    "print(user[0]['name'])\n",
    "# ref3 = db.reference(f\"/Pharm/{user}\")\n",
    "# chx = ref3.get('name')\n",
    "# print(chx)"
   ]
  },
  {
   "cell_type": "code",
   "execution_count": 36,
   "metadata": {},
   "outputs": [],
   "source": [
    "def get_pharmacist(db):\n",
    "    result = {}\n",
    "    refPharm = db.reference('/Pharm')\n",
    "    ch = refPharm.get()\n",
    "    for i,j in ch.items():\n",
    "        result[i] = j\n",
    "    return result"
   ]
  },
  {
   "cell_type": "code",
   "execution_count": 37,
   "metadata": {},
   "outputs": [
    {
     "name": "stdout",
     "output_type": "stream",
     "text": [
      "{'Tejas': {'Phone Number': '9019942460', 'date': '2025-02-01', 'diagnosis': ' viral fever  ', 'medication': [' paracetamol 500-650 mg  ']}}\n"
     ]
    }
   ],
   "source": [
    "print(get_pharmacist(db))"
   ]
  },
  {
   "cell_type": "code",
   "execution_count": 30,
   "metadata": {},
   "outputs": [],
   "source": [
    "def get_doctor(doc_ph,db):\n",
    "    result = {}\n",
    "    refCred = db.reference(f'/Creds')\n",
    "    chx = refCred.get()\n",
    "    doc = [j for i,j in chx.items() if i in [doc_ph]]\n",
    "    #print(doc)\n",
    "    doc_name = doc[0]['name']\n",
    "    refD = db.reference(f'/User/Doctor/{doc_name}')\n",
    "    refC = db.reference(f'/User/Patient')\n",
    "    ch = refD.get()\n",
    "    patients = [i for i in ch.keys()]\n",
    "    chP = refC.get()\n",
    "    for i,j in chP.items():\n",
    "        if i in patients:\n",
    "            for k in j:\n",
    "                temp_dict = {'patient_phno': '', 'Date': '', 'Diagnosis': '', 'medication': ''}\n",
    "                temp_dict['date']=(j[k]['date'])\n",
    "                temp_dict['diagnosis']=(j[k]['diagnosis'])\n",
    "                temp_dict['medication']=(j[k]['medication'])\n",
    "                temp_dict['patient_phno']=(i)\n",
    "                result[k].append(temp_dict)\n",
    "    return result"
   ]
  },
  {
   "cell_type": "code",
   "execution_count": 31,
   "metadata": {},
   "outputs": [
    {
     "ename": "KeyError",
     "evalue": "'202502012347'",
     "output_type": "error",
     "traceback": [
      "\u001b[1;31m---------------------------------------------------------------------------\u001b[0m",
      "\u001b[1;31mKeyError\u001b[0m                                  Traceback (most recent call last)",
      "Cell \u001b[1;32mIn[31], line 1\u001b[0m\n\u001b[1;32m----> 1\u001b[0m \u001b[38;5;28mprint\u001b[39m(\u001b[43mget_doctor\u001b[49m\u001b[43m(\u001b[49m\u001b[38;5;124;43m'\u001b[39;49m\u001b[38;5;124;43m9123456766\u001b[39;49m\u001b[38;5;124;43m'\u001b[39;49m\u001b[43m,\u001b[49m\u001b[43mdb\u001b[49m\u001b[43m)\u001b[49m)\n",
      "Cell \u001b[1;32mIn[30], line 21\u001b[0m, in \u001b[0;36mget_doctor\u001b[1;34m(doc_ph, db)\u001b[0m\n\u001b[0;32m     19\u001b[0m             temp_dict[\u001b[38;5;124m'\u001b[39m\u001b[38;5;124mmedication\u001b[39m\u001b[38;5;124m'\u001b[39m]\u001b[38;5;241m=\u001b[39m(j[k][\u001b[38;5;124m'\u001b[39m\u001b[38;5;124mmedication\u001b[39m\u001b[38;5;124m'\u001b[39m])\n\u001b[0;32m     20\u001b[0m             temp_dict[\u001b[38;5;124m'\u001b[39m\u001b[38;5;124mpatient_phno\u001b[39m\u001b[38;5;124m'\u001b[39m]\u001b[38;5;241m=\u001b[39m(i)\n\u001b[1;32m---> 21\u001b[0m             \u001b[43mresult\u001b[49m\u001b[43m[\u001b[49m\u001b[43mk\u001b[49m\u001b[43m]\u001b[49m\u001b[38;5;241m.\u001b[39mappend(temp_dict)\n\u001b[0;32m     22\u001b[0m \u001b[38;5;28;01mreturn\u001b[39;00m result\n",
      "\u001b[1;31mKeyError\u001b[0m: '202502012347'"
     ]
    }
   ],
   "source": [
    "print(get_doctor('9123456766',db))"
   ]
  },
  {
   "cell_type": "code",
   "execution_count": 66,
   "metadata": {},
   "outputs": [],
   "source": [
    "def get_patient(phno,db):\n",
    "    \n",
    "    refP = db.reference(f'/User/Patient/{phno}')\n",
    "    chP = refP.get()\n",
    "    refD = db.reference(f'/User/Doctor')\n",
    "    chD = refD.get()\n",
    "    refCred = db.reference(f'/Creds')\n",
    "    chx = refCred.get()\n",
    "    #print(chx.items())\n",
    "    doc = [j for i,j in chx.items() if i in [phno]]\n",
    "    result = {doc[0]['name']:[]}    \n",
    "    appts = [i for i in chP.keys()]\n",
    "    #print(appts)\n",
    "    for i,j in chD.items():\n",
    "        temp_dict = {'date':'','diagnosis':'','medication':[],'Doc_name':''}\n",
    "        if phno in list(j.keys()):\n",
    "            for k in appts:\n",
    "                #print(i,j)\n",
    "                if k in j[phno].keys():\n",
    "                    \n",
    "                    temp_dict['date'] = j[phno][k]['date']\n",
    "                    temp_dict['diagnosis'] = j[phno][k]['diagnosis']\n",
    "                    temp_dict['medication'] = j[phno][k]['medication']\n",
    "                    temp_dict['appt'] = k\n",
    "                    temp_dict['Doc_name'] = i\n",
    "                    result[doc[0]['name']].append(temp_dict)\n",
    "    return result"
   ]
  },
  {
   "cell_type": "code",
   "execution_count": 67,
   "metadata": {},
   "outputs": [
    {
     "name": "stdout",
     "output_type": "stream",
     "text": [
      "{'Tejas': [{'date': '2025-02-02', 'diagnosis': '  NA  ', 'medication': ['  Azithromycin 100mg 3 times a day for 3 days', ' fever medication 650mg  '], 'Doc_name': 'Jishnu Phani Perisetti', 'appt': '202502020527'}, {'date': '2025-02-01', 'diagnosis': ' viral fever  ', 'medication': [' paracetamol 500-650 mg  '], 'Doc_name': 'Tejas', 'appt': '202502012350'}, {'date': '2025-02-01', 'diagnosis': ' viral fever  ', 'medication': [' paracetamol 500-650 mg  '], 'Doc_name': 'Tejas', 'appt': '202502012350'}]}\n"
     ]
    }
   ],
   "source": [
    "print(get_patient('9019942460',db))"
   ]
  },
  {
   "cell_type": "code",
   "execution_count": 48,
   "metadata": {},
   "outputs": [],
   "source": [
    "def download_prescription(appt_id,bucket):\n",
    "    blobs = bucket.list_blobs(prefix=f'{appt_id}/')\n",
    "    name = \"\"\n",
    "    for i in blobs:\n",
    "        name = (i.name)\n",
    "    dest_nm = name.split('/')[-1]\n",
    "    bucket.blob(name).download_to_filename(f'{dest_nm}')"
   ]
  },
  {
   "cell_type": "code",
   "execution_count": 49,
   "metadata": {},
   "outputs": [],
   "source": [
    "download_prescription(202502012350,bucket)"
   ]
  },
  {
   "cell_type": "code",
   "execution_count": 70,
   "metadata": {},
   "outputs": [],
   "source": [
    "def get_doctor(doc_ph, db):\n",
    "    try:\n",
    "        result = {}\n",
    "        # Get doctor credentials\n",
    "        refCred = db.reference('/Creds')\n",
    "        chx = refCred.get()\n",
    "        doc = [j for i,j in chx.items() if i in [doc_ph]]\n",
    "        if not doc:\n",
    "            return {\"error\": \"Doctor not found\"}\n",
    "        \n",
    "        doc_name = doc[0]['name']\n",
    "        \n",
    "        # Get doctor's patients\n",
    "        refD = db.reference(f'/User/Doctor/{doc_name}')\n",
    "        refC = db.reference('/User/Patient')\n",
    "        \n",
    "        ch = refD.get()\n",
    "        if not ch:\n",
    "            return {\"error\": \"No patient records found\"}\n",
    "            \n",
    "        patients = list(ch.keys())\n",
    "        chP = refC.get()\n",
    "\n",
    "        # Process patient records\n",
    "        for patient_ph, records in chP.items():\n",
    "            if patient_ph in patients:\n",
    "                for record_id, record in records.items():\n",
    "                    \n",
    "                    result[record_id] = {\n",
    "                        'patient_phno': patient_ph.strip(),\n",
    "                        'date': record.get('date', '').strip(),\n",
    "                        'diagnosis': record.get('diagnosis', '').strip(),\n",
    "                        'medication': record.get('medication', []),\n",
    "                        'doctor_name': doc_name,\n",
    "                        'appt':record_id\n",
    "                    }\n",
    "        \n",
    "        return {\n",
    "            \"status\": \"success\",\n",
    "            \"data\": result,\n",
    "            \"doctor_name\": doc_name\n",
    "        }\n",
    "        \n",
    "    except Exception as e:\n",
    "        return {\n",
    "            \"status\": \"error\",\n",
    "            \"message\": str(e)\n",
    "        }"
   ]
  },
  {
   "cell_type": "code",
   "execution_count": 71,
   "metadata": {},
   "outputs": [
    {
     "name": "stdout",
     "output_type": "stream",
     "text": [
      "202502012347\n",
      "202502012350\n",
      "202502020527\n"
     ]
    },
    {
     "data": {
      "text/plain": [
       "{'status': 'success',\n",
       " 'data': {'202502012347': {'patient_phno': '9019942460',\n",
       "   'date': '2025-02-01',\n",
       "   'diagnosis': 'Viral fever',\n",
       "   'medication': ['\\tParacetamol (500 to 650 mg)', ' Ibuprofen if needed  '],\n",
       "   'doctor_name': 'Jishnu Phani Perisetti'},\n",
       "  '202502012350': {'patient_phno': '9019942460',\n",
       "   'date': '2025-02-01',\n",
       "   'diagnosis': 'viral fever',\n",
       "   'medication': [' paracetamol 500-650 mg  '],\n",
       "   'doctor_name': 'Jishnu Phani Perisetti'},\n",
       "  '202502020527': {'patient_phno': '9019942460',\n",
       "   'date': '2025-02-02',\n",
       "   'diagnosis': 'NA',\n",
       "   'medication': ['  Azithromycin 100mg 3 times a day for 3 days',\n",
       "    ' fever medication 650mg  '],\n",
       "   'doctor_name': 'Jishnu Phani Perisetti'}},\n",
       " 'doctor_name': 'Jishnu Phani Perisetti'}"
      ]
     },
     "execution_count": 71,
     "metadata": {},
     "output_type": "execute_result"
    }
   ],
   "source": [
    "get_doctor('9972710948',db)"
   ]
  },
  {
   "cell_type": "code",
   "execution_count": null,
   "metadata": {},
   "outputs": [],
   "source": []
  }
 ],
 "metadata": {
  "kernelspec": {
   "display_name": "Python 3",
   "language": "python",
   "name": "python3"
  },
  "language_info": {
   "codemirror_mode": {
    "name": "ipython",
    "version": 3
   },
   "file_extension": ".py",
   "mimetype": "text/x-python",
   "name": "python",
   "nbconvert_exporter": "python",
   "pygments_lexer": "ipython3",
   "version": "3.12.6"
  }
 },
 "nbformat": 4,
 "nbformat_minor": 2
}
